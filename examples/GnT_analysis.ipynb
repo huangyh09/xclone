{
 "cells": [
  {
   "cell_type": "markdown",
   "metadata": {},
   "source": [
    "## Simulation generator for XClone"
   ]
  },
  {
   "cell_type": "code",
   "execution_count": 1,
   "metadata": {},
   "outputs": [],
   "source": [
    "import numpy as np\n",
    "from scipy.sparse import load_npz"
   ]
  },
  {
   "cell_type": "code",
   "execution_count": 2,
   "metadata": {},
   "outputs": [],
   "source": [
    "# dat_dir = \"/hps/nobackup2/stegle/users/huangh/cloneID/\"\n",
    "dat_dir = \"./../data/\""
   ]
  },
  {
   "cell_type": "markdown",
   "metadata": {},
   "source": [
    "### Load G&T data"
   ]
  },
  {
   "cell_type": "code",
   "execution_count": 3,
   "metadata": {},
   "outputs": [],
   "source": [
    "AD_RNA = load_npz(dat_dir + \"/G_T/scRNA/block_AD.npz\").toarray()\n",
    "DP_RNA = load_npz(dat_dir + \"/G_T/scRNA/block_DP.npz\").toarray()\n",
    "\n",
    "AD_DNA = load_npz(dat_dir + \"/G_T/scDNA/block_AD.npz\").toarray()\n",
    "DP_DNA = load_npz(dat_dir + \"/G_T/scDNA/block_DP.npz\").toarray()"
   ]
  },
  {
   "cell_type": "code",
   "execution_count": 4,
   "metadata": {},
   "outputs": [
    {
     "data": {
      "text/plain": [
       "array([[188., 346., 181., ...,  37.,  66.,  58.],\n",
       "       [ 43.,  75.,  67., ...,  17.,  32.,  22.],\n",
       "       [  1.,   3.,  nan, ...,   2.,  nan,  nan],\n",
       "       ...,\n",
       "       [ 15.,  10.,  18., ...,   2.,  11.,   6.],\n",
       "       [  5.,   4.,   5., ...,   1.,  nan,  nan],\n",
       "       [ 75.,  87., 149., ...,  28.,  39.,  16.]])"
      ]
     },
     "execution_count": 4,
     "metadata": {},
     "output_type": "execute_result"
    }
   ],
   "source": [
    "DP_DNA"
   ]
  },
  {
   "cell_type": "code",
   "execution_count": 5,
   "metadata": {},
   "outputs": [],
   "source": [
    "AD_RNA[AD_RNA != AD_RNA] = 0\n",
    "DP_RNA[DP_RNA != DP_RNA] = 0\n",
    "AD_DNA[AD_DNA != AD_DNA] = 0\n",
    "DP_DNA[DP_DNA != DP_DNA] = 0\n",
    "# AD_RNA[(AD_RNA>0) == False] = 0"
   ]
  },
  {
   "cell_type": "code",
   "execution_count": 6,
   "metadata": {},
   "outputs": [
    {
     "data": {
      "text/plain": [
       "(0.0, 0.0)"
      ]
     },
     "execution_count": 6,
     "metadata": {},
     "output_type": "execute_result"
    }
   ],
   "source": [
    "np.mean(AD_RNA > DP_RNA), np.mean(AD_DNA > DP_DNA)"
   ]
  },
  {
   "cell_type": "code",
   "execution_count": null,
   "metadata": {},
   "outputs": [],
   "source": []
  },
  {
   "cell_type": "code",
   "execution_count": 7,
   "metadata": {},
   "outputs": [],
   "source": [
    "import pickle\n",
    "\n",
    "pickle_in = open(dat_dir + \"/G_T/scDNA/CNV_prime.pkl\", \"rb\")\n",
    "CNV_prime = pickle.load(pickle_in)\n",
    "pickle_in.close()\n",
    "\n",
    "pickle_in = open(dat_dir + \"/G_T/scDNA/I_G_prime.pkl\", \"rb\")\n",
    "I_G_prime = pickle.load(pickle_in)\n",
    "pickle_in.close()\n",
    "\n",
    "pickle_in = open(dat_dir + \"/G_T/scDNA/tau.pkl\", \"rb\")\n",
    "tau_val = pickle.load(pickle_in)\n",
    "pickle_in.close()\n",
    "\n",
    "pickle_in = open(dat_dir + \"/G_T/scDNA/T.pkl\", \"rb\")\n",
    "T_val = pickle.load(pickle_in)\n",
    "pickle_in.close()"
   ]
  },
  {
   "cell_type": "code",
   "execution_count": 8,
   "metadata": {},
   "outputs": [
    {
     "data": {
      "text/plain": [
       "array([4, 0, 0, 1, 4, 2, 8, 0, 4, 7, 1, 0, 1, 4, 1, 0, 1, 0, 7, 5, 8, 8,\n",
       "       0, 5, 5, 6, 7, 6, 1, 5, 4, 0, 7, 3, 2, 6, 0, 2, 3, 5, 0, 1, 1, 4,\n",
       "       1, 7, 0, 1, 7, 5, 2, 3, 6, 4, 5, 5, 2, 6, 0, 8, 2, 6, 3, 2, 2, 6,\n",
       "       4, 7, 3, 2, 3, 4, 1, 0, 2, 0, 4, 1, 3, 1, 6, 6, 2, 5, 8, 3, 3, 3,\n",
       "       2])"
      ]
     },
     "execution_count": 8,
     "metadata": {},
     "output_type": "execute_result"
    }
   ],
   "source": [
    "I_G_prime"
   ]
  },
  {
   "cell_type": "code",
   "execution_count": 9,
   "metadata": {},
   "outputs": [
    {
     "data": {
      "text/plain": [
       "array([[1, 0, 2, 1, 0, 3, 2, 1, 0, 4, 3, 2, 1, 0, 5, 4, 3, 2, 1, 0],\n",
       "       [0, 1, 0, 1, 2, 0, 1, 2, 3, 0, 1, 2, 3, 4, 0, 1, 2, 3, 4, 5]])"
      ]
     },
     "execution_count": 9,
     "metadata": {},
     "output_type": "execute_result"
    }
   ],
   "source": [
    "tau_val.transpose()"
   ]
  },
  {
   "cell_type": "code",
   "execution_count": 10,
   "metadata": {},
   "outputs": [
    {
     "data": {
      "text/plain": [
       "(10152, 9)"
      ]
     },
     "execution_count": 10,
     "metadata": {},
     "output_type": "execute_result"
    }
   ],
   "source": [
    "T_val.shape"
   ]
  },
  {
   "cell_type": "code",
   "execution_count": 11,
   "metadata": {},
   "outputs": [
    {
     "data": {
      "text/plain": [
       "array([[ 3.,  3.,  3., ...,  0.,  3.,  3.],\n",
       "       [ 3.,  3.,  3., ...,  0.,  3.,  3.],\n",
       "       [ 3.,  3.,  3., ...,  0.,  3.,  4.],\n",
       "       ...,\n",
       "       [ 3.,  3.,  3., ..., nan,  3.,  3.],\n",
       "       [ 3.,  3.,  3., ..., nan,  3.,  3.],\n",
       "       [ 3.,  3.,  3., ..., nan,  3.,  3.]])"
      ]
     },
     "execution_count": 11,
     "metadata": {},
     "output_type": "execute_result"
    }
   ],
   "source": [
    "T_val"
   ]
  },
  {
   "cell_type": "code",
   "execution_count": 12,
   "metadata": {},
   "outputs": [
    {
     "name": "stderr",
     "output_type": "stream",
     "text": [
      "/Users/huangh/anaconda3/lib/python3.6/site-packages/ipykernel_launcher.py:1: RuntimeWarning: invalid value encountered in greater_equal\n",
      "  \"\"\"Entry point for launching an IPython kernel.\n"
     ]
    },
    {
     "data": {
      "text/plain": [
       "array([ 0.,  1.,  2.,  3.,  4.,  5.,  6.,  7.,  8., 16., 17.])"
      ]
     },
     "execution_count": 12,
     "metadata": {},
     "output_type": "execute_result"
    }
   ],
   "source": [
    "np.unique(T_val[T_val >= 0])"
   ]
  },
  {
   "cell_type": "code",
   "execution_count": 13,
   "metadata": {},
   "outputs": [
    {
     "data": {
      "text/plain": [
       "4807"
      ]
     },
     "execution_count": 13,
     "metadata": {},
     "output_type": "execute_result"
    }
   ],
   "source": [
    "np.sum(np.sum(T_val == 0, axis=1) > 0)"
   ]
  },
  {
   "cell_type": "code",
   "execution_count": 14,
   "metadata": {},
   "outputs": [
    {
     "data": {
      "text/plain": [
       "array([1516, 1298, 1435, 1183, 1241, 1356, 2245, 1435, 1246])"
      ]
     },
     "execution_count": 14,
     "metadata": {},
     "output_type": "execute_result"
    }
   ],
   "source": [
    "np.sum(T_val == 0, axis=0)"
   ]
  },
  {
   "cell_type": "code",
   "execution_count": 15,
   "metadata": {},
   "outputs": [
    {
     "data": {
      "text/plain": [
       "array([0.30601905, 0.36197582, 0.62908685, 0.82636362])"
      ]
     },
     "execution_count": 15,
     "metadata": {},
     "output_type": "execute_result"
    }
   ],
   "source": [
    "np.random.beta(a=np.array([1,2,3,4])*100, b=np.array([2,4,2,1])*100)"
   ]
  },
  {
   "cell_type": "code",
   "execution_count": null,
   "metadata": {},
   "outputs": [],
   "source": []
  },
  {
   "cell_type": "code",
   "execution_count": 16,
   "metadata": {},
   "outputs": [
    {
     "name": "stdout",
     "output_type": "stream",
     "text": [
      "1424\n",
      "[vireo] warm-up: 50 random initializations for 4 clusters...\n",
      "donor2\tdonor1\tdonor3\tdonor0\n",
      "112\t15\t30\t21\n",
      "[vireo] warm-up: lower bound ranges [-4304136.1, -4293396.6, -4287022.7]\n",
      "[vireo] main RUN with warm initials and tuned GT ...\n",
      "[vireo] main RUN: 26 iterations; lower bound -4286930.1\n",
      "[vireo] beta parameters for binomial rate:\n",
      "[[3327.0 67696.3]\n",
      " [32523.3 85674.5]\n",
      " [2903939.4 2780829.6]\n",
      " [251683.6 131071.2]\n",
      " [98403.8 7076.3]]\n"
     ]
    }
   ],
   "source": [
    "import vireoSNP\n",
    "from scipy import sparse\n",
    "\n",
    "idx = (np.sum(T_val == 0, axis=1) == 0) * (np.sum(T_val == T_val, axis=1) == T_val.shape[1])\n",
    "print(sum(idx))\n",
    "\n",
    "theta_prior = np.array([[0.01, 1], [1, 2], [1, 1], [2, 1], [1, 0.01]])\n",
    "# theta_prior = np.array([[0.1, 30], [10, 20], [10, 10], [20, 10], [30, 0.1]])\n",
    "\n",
    "\n",
    "AD = sparse.csr_matrix(np.append(AD_RNA, AD_DNA, axis=1))[idx, :]#[:100, :]\n",
    "DP = sparse.csr_matrix(np.append(DP_RNA, DP_DNA, axis=1))[idx, :]#[:100, :]\n",
    "\n",
    "# res = vireoSNP.vireo_core(AD, DP, n_donor=4, learn_GT=True,\n",
    "#                           theta_prior=theta_prior, learn_theta=True, \n",
    "#                           check_doublet=False)\n",
    "\n",
    "res = vireoSNP.vireo_flock(AD, DP, n_donor=4, learn_GT=True,\n",
    "                           n_extra_donor=0, #ASE_mode=True,\n",
    "                           theta_prior=theta_prior, learn_theta=True, \n",
    "                           n_init=50, check_doublet=False, random_seed=1)"
   ]
  },
  {
   "cell_type": "code",
   "execution_count": 17,
   "metadata": {},
   "outputs": [
    {
     "name": "stdout",
     "output_type": "stream",
     "text": [
      "(1424, 178)\n",
      "0 0 0.0\n"
     ]
    }
   ],
   "source": [
    "print(AD.shape)\n",
    "print(np.sum(AD < 0), np.sum(DP < 0), np.mean(AD > DP))"
   ]
  },
  {
   "cell_type": "code",
   "execution_count": 19,
   "metadata": {},
   "outputs": [
    {
     "data": {
      "image/png": "[encoded data removed]",
      "text/plain": [
       "<Figure size 1600x700 with 4 Axes>"
      ]
     },
     "metadata": {
      "needs_background": "light"
     },
     "output_type": "display_data"
    }
   ],
   "source": [
    "import seaborn as sns\n",
    "import matplotlib.pyplot as plt\n",
    "\n",
    "fig = plt.figure(figsize=(8, 3.5), dpi=200)\n",
    "plt.subplot(1,2,1)\n",
    "im = sns.heatmap(res['ID_prob'][:89, :], cmap=\"GnBu\")\n",
    "plt.title(\"cell assignment prob: scRNA-seq\")\n",
    "plt.xlabel(\"Clones\")\n",
    "plt.ylabel(\"89 cells\")\n",
    "plt.yticks([])\n",
    "\n",
    "plt.subplot(1,2,2)\n",
    "im = sns.heatmap(res['ID_prob'][89:, :], cmap=\"GnBu\")\n",
    "plt.xlabel(\"Clones\")\n",
    "plt.title(\"cell assignment prob: scDNA-seq\")\n",
    "plt.ylabel(\"89 cells\")\n",
    "plt.yticks([])\n",
    "\n",
    "plt.tight_layout()\n",
    "plt.show()"
   ]
  },
  {
   "cell_type": "code",
   "execution_count": 20,
   "metadata": {},
   "outputs": [
    {
     "data": {
      "text/plain": [
       "array([0.0, 0.3, 0.5, 0.7, 0.9])"
      ]
     },
     "execution_count": 20,
     "metadata": {},
     "output_type": "execute_result"
    }
   ],
   "source": [
    "res['theta_shapes'][:, 0] / res['theta_shapes'].sum(axis=1)"
   ]
  },
  {
   "cell_type": "code",
   "execution_count": 21,
   "metadata": {},
   "outputs": [],
   "source": [
    "_theta = res['theta_shapes'][:, 0] / res['theta_shapes'].sum(axis=1)\n",
    "_theta_clone = np.tensordot(res['GT_prob'], _theta, axes=[1,0])"
   ]
  },
  {
   "cell_type": "code",
   "execution_count": 22,
   "metadata": {},
   "outputs": [
    {
     "data": {
      "text/plain": [
       "[Text(183.556,0.5,'CNV blocks'),\n",
       " Text(0.5,69,'infered clones'),\n",
       " Text(0.5,1,'Inferred allele ratio')]"
      ]
     },
     "execution_count": 22,
     "metadata": {},
     "output_type": "execute_result"
    },
    {
     "data": {
      "image/png": "[encoded data removed]",
      "text/plain": [
       "<Figure size 720x720 with 4 Axes>"
      ]
     },
     "metadata": {
      "needs_background": "light"
     },
     "output_type": "display_data"
    }
   ],
   "source": [
    "im = sns.clustermap(_theta_clone, col_cluster=False)\n",
    "im.ax_heatmap.set(xlabel='infered clones', \n",
    "                  ylabel='CNV blocks',\n",
    "                  title='Inferred allele ratio')"
   ]
  },
  {
   "cell_type": "code",
   "execution_count": null,
   "metadata": {},
   "outputs": [],
   "source": []
  }
 ],
 "metadata": {
  "kernelspec": {
   "display_name": "Python 3",
   "language": "python",
   "name": "python3"
  },
  "language_info": {
   "codemirror_mode": {
    "name": "ipython",
    "version": 3
   },
   "file_extension": ".py",
   "mimetype": "text/x-python",
   "name": "python",
   "nbconvert_exporter": "python",
   "pygments_lexer": "ipython3",
   "version": "3.6.9"
  }
 },
 "nbformat": 4,
 "nbformat_minor": 4
}
