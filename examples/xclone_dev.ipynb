{
 "cells": [
  {
   "cell_type": "markdown",
   "metadata": {},
   "source": [
    "# Test for XClone implementation with TensorFlow\n",
    "\n",
    "For using the examples in ipynb file, you need to download the \n",
    "[G_T data](https://drive.google.com/file/d/1Yf-rR8xcs7_i3zlCZ6zQJhts2h_y_roj)\n",
    "and put it in the [../data](https://github.com/huangyh09/xclone/tree/master/data) folder."
   ]
  },
  {
   "cell_type": "code",
   "execution_count": 1,
   "metadata": {},
   "outputs": [],
   "source": [
    "import numpy as np\n",
    "import matplotlib.pyplot as plt\n",
    "\n",
    "import tensorflow as tf\n",
    "import tensorflow_probability as tfp\n",
    "from tensorflow_probability import distributions as tfd\n",
    "\n",
    "# Random seed\n",
    "np.random.seed(1)\n",
    "tf.random.set_seed(1)"
   ]
  },
  {
   "cell_type": "code",
   "execution_count": 2,
   "metadata": {},
   "outputs": [],
   "source": [
    "import numpy as np\n",
    "from scipy.sparse import load_npz\n",
    "\n",
    "import sys\n",
    "sys.path.append(\"../\")\n",
    "from xclone.simulator import CNV_ASE_simulator"
   ]
  },
  {
   "cell_type": "code",
   "execution_count": 3,
   "metadata": {},
   "outputs": [],
   "source": [
    "dat_dir = \"./\"\n",
    "from xclone.plot import annoHeatMap"
   ]
  },
  {
   "cell_type": "code",
   "execution_count": 4,
   "metadata": {},
   "outputs": [
    {
     "name": "stdout",
     "output_type": "stream",
     "text": [
      "(10152, 89) (10152, 89)\n",
      "[[188. 346. 181. ...  37.  66.  58.]\n",
      " [ 43.  75.  67. ...  17.  32.  22.]\n",
      " [  1.   3.  nan ...   2.  nan  nan]\n",
      " ...\n",
      " [ 15.  10.  18. ...   2.  11.   6.]\n",
      " [  5.   4.   5. ...   1.  nan  nan]\n",
      " [ 75.  87. 149. ...  28.  39.  16.]]\n",
      "[[ 6.  7. 10. ... 85. 10. 84.]\n",
      " [nan nan nan ... nan nan nan]\n",
      " [nan nan nan ... nan nan nan]\n",
      " ...\n",
      " [nan nan nan ... nan nan nan]\n",
      " [nan nan nan ... nan nan nan]\n",
      " [nan  1. nan ... nan nan nan]]\n"
     ]
    }
   ],
   "source": [
    "DP_RNA = load_npz(dat_dir + \"../data/G_T/scRNA/block_DP.npz\").toarray()\n",
    "DP_DNA = load_npz(dat_dir + \"../data/G_T/scDNA/block_DP.npz\").toarray()\n",
    "\n",
    "print(DP_RNA.shape, DP_DNA.shape)\n",
    "print(DP_DNA)\n",
    "print(DP_RNA)"
   ]
  },
  {
   "cell_type": "code",
   "execution_count": 5,
   "metadata": {},
   "outputs": [],
   "source": [
    "DP_RNA[DP_RNA != DP_RNA] = 0\n",
    "DP_DNA[DP_DNA != DP_DNA] = 0"
   ]
  },
  {
   "cell_type": "markdown",
   "metadata": {},
   "source": [
    "### Simulation"
   ]
  },
  {
   "cell_type": "code",
   "execution_count": 6,
   "metadata": {},
   "outputs": [],
   "source": [
    "n_clone = 4\n",
    "n_block = 100\n",
    "tau_fix = np.array([[0, 1], [1, 2], [1, 1], [2, 1], [1, 0]])\n",
    "T_mat_rand = np.random.choice(range(5), size=(n_block, n_clone))\n",
    "\n",
    "simu_dat = CNV_ASE_simulator(tau_fix, T_mat_rand, \n",
    "                             DP_RNA[:n_block, :], \n",
    "                             DP_DNA[:n_block, :],\n",
    "                             share_theta=False,\n",
    "                             n_cell_DNA=150, n_cell_RNA=300,\n",
    "                             random_seed=2)"
   ]
  },
  {
   "cell_type": "code",
   "execution_count": 7,
   "metadata": {},
   "outputs": [
    {
     "data": {
      "text/plain": [
       "dict_keys(['tau', 'T_mat', 'I_RNA', 'I_DNA', 'X_RNA', 'X_DNA', 'DP_RNA', 'DP_DNA', 'AD_RNA', 'AD_DNA', 'Theta_RNA', 'Theta_DNA'])"
      ]
     },
     "execution_count": 7,
     "metadata": {},
     "output_type": "execute_result"
    }
   ],
   "source": [
    "simu_dat.keys()"
   ]
  },
  {
   "cell_type": "code",
   "execution_count": 8,
   "metadata": {},
   "outputs": [
    {
     "data": {
      "text/plain": [
       "(150,)"
      ]
     },
     "execution_count": 8,
     "metadata": {},
     "output_type": "execute_result"
    }
   ],
   "source": [
    "# simu_dat['Theta_RNA']\n",
    "simu_dat['I_DNA'].shape"
   ]
  },
  {
   "cell_type": "code",
   "execution_count": 9,
   "metadata": {},
   "outputs": [
    {
     "name": "stdout",
     "output_type": "stream",
     "text": [
      "(array([0, 1, 2, 3]), array([69, 71, 76, 84])) (array([0, 1, 2, 3]), array([31, 37, 43, 39]))\n"
     ]
    }
   ],
   "source": [
    "print(np.unique(simu_dat['I_RNA'], return_counts=True),\n",
    "      np.unique(simu_dat['I_DNA'], return_counts=True))"
   ]
  },
  {
   "cell_type": "markdown",
   "metadata": {},
   "source": [
    "### Run ASE module with TensorFlow implementation"
   ]
  },
  {
   "cell_type": "code",
   "execution_count": 10,
   "metadata": {},
   "outputs": [],
   "source": [
    "from xclone.model.XClone import XCloneVB, get_binom_coeff\n",
    "np.set_printoptions(precision=4)"
   ]
  },
  {
   "cell_type": "code",
   "execution_count": 11,
   "metadata": {},
   "outputs": [],
   "source": [
    "theta_prior = np.array([[0.01, 1], [1, 2], [1, 1], [2, 1], [1, 0.01]])\n",
    "\n",
    "AD = simu_dat['AD_RNA'].astype(np.float32)\n",
    "DP = simu_dat['DP_RNA'].astype(np.float32)\n",
    "\n",
    "# AD = simu_dat['AD_DNA'].astype(np.float32)\n",
    "# DP = simu_dat['DP_DNA'].astype(np.float32)"
   ]
  },
  {
   "cell_type": "code",
   "execution_count": 12,
   "metadata": {},
   "outputs": [
    {
     "name": "stdout",
     "output_type": "stream",
     "text": [
      "[[1.3863 0.     0.     ... 0.     0.     0.    ]\n",
      " [0.     0.     0.     ... 0.     0.     0.    ]\n",
      " [0.     0.     0.     ... 0.     0.     0.    ]\n",
      " ...\n",
      " [0.     0.     0.     ... 0.     0.     0.    ]\n",
      " [0.     0.     0.     ... 0.     0.     0.    ]\n",
      " [0.     0.     0.     ... 0.     0.     0.    ]]\n"
     ]
    }
   ],
   "source": [
    "binom_coeff = get_binom_coeff(AD, DP)\n",
    "print(binom_coeff)"
   ]
  },
  {
   "cell_type": "code",
   "execution_count": 13,
   "metadata": {},
   "outputs": [],
   "source": [
    "CNV_states = np.array([[0, 1], [1, 2], [1, 1], [2, 1], [1, 0]], \n",
    "                      dtype=np.float32)\n",
    "\n",
    "model = XCloneVB(Nb = AD.shape[0], Nc=AD.shape[1], \n",
    "                 Nk=n_clone, cnv_states=CNV_states)"
   ]
  },
  {
   "cell_type": "code",
   "execution_count": 14,
   "metadata": {},
   "outputs": [],
   "source": [
    "### Fix some components to reduce the inference\n",
    "\n",
    "# _I_DNA = np.ones((150, 4), np.float32) * -2\n",
    "# for i in range(150):\n",
    "#     _I_DNA[i, simu_dat['I_DNA'][i]] = 2\n",
    "\n",
    "# model.cell_logit = _I_DNA\n",
    "# model.theta_s1 = (model.cnv_states[:, 0] + 0.01) * 15\n",
    "# model.theta_s2 = (model.cnv_states[:, 1] + 0.01) * 15"
   ]
  },
  {
   "cell_type": "code",
   "execution_count": 15,
   "metadata": {},
   "outputs": [
    {
     "data": {
      "text/plain": [
       "<tf.Tensor: id=101, shape=(5, 4), dtype=float32, numpy=\n",
       "array([[0.2319, 0.2687, 0.2546, 0.2448],\n",
       "       [0.2354, 0.2525, 0.2699, 0.2422],\n",
       "       [0.2516, 0.2488, 0.2504, 0.2493],\n",
       "       [0.2687, 0.255 , 0.2502, 0.2261],\n",
       "       [0.241 , 0.2321, 0.2634, 0.2635]], dtype=float32)>"
      ]
     },
     "execution_count": 15,
     "metadata": {},
     "output_type": "execute_result"
    }
   ],
   "source": [
    "model.Z.mean()[:5]"
   ]
  },
  {
   "cell_type": "code",
   "execution_count": 16,
   "metadata": {},
   "outputs": [
    {
     "name": "stdout",
     "output_type": "stream",
     "text": [
      "tf.Tensor(58.445934, shape=(), dtype=float32)\n",
      "tf.Tensor(-88583.66, shape=(), dtype=float32)\n"
     ]
    }
   ],
   "source": [
    "print(model.KLsum)\n",
    "print(model.logLik(AD, DP, binom_coeff))"
   ]
  },
  {
   "cell_type": "code",
   "execution_count": 17,
   "metadata": {},
   "outputs": [],
   "source": [
    "## multiple learning stages with different rates\n",
    "losses = tf.concat([\n",
    "    model.fit(AD, DP, num_steps=100, learn_rate=0.001),\n",
    "    model.fit(AD, DP, num_steps=200, learn_rate=0.02),\n",
    "    model.fit(AD, DP, num_steps=500, learn_rate=0.05)], axis=-1)"
   ]
  },
  {
   "cell_type": "code",
   "execution_count": 18,
   "metadata": {},
   "outputs": [
    {
     "data": {
      "image/png": "[encoded data removed]",
      "text/plain": [
       "<Figure size 432x288 with 1 Axes>"
      ]
     },
     "metadata": {
      "needs_background": "light"
     },
     "output_type": "display_data"
    }
   ],
   "source": [
    "fig = plt.figure()\n",
    "plt.plot(losses)\n",
    "plt.ylabel(\"Loss\")\n",
    "plt.xlabel(\"Interations\")\n",
    "plt.show()"
   ]
  },
  {
   "cell_type": "code",
   "execution_count": 19,
   "metadata": {},
   "outputs": [
    {
     "name": "stdout",
     "output_type": "stream",
     "text": [
      "[80.7    68.9455 77.484  72.8701]\n"
     ]
    },
    {
     "data": {
      "text/plain": [
       "{'concentration1': <tf.Variable 'Variable:0' shape=(5,) dtype=float32, numpy=array([17.8252, 14.8084,  4.8755,  0.1265, 15.5176], dtype=float32)>,\n",
       " 'concentration0': <tf.Variable 'Variable:0' shape=(5,) dtype=float32, numpy=array([ 1.9184,  0.1024, 15.6636, 15.0081,  9.057 ], dtype=float32)>,\n",
       " 'validate_args': False,\n",
       " 'allow_nan_stats': True,\n",
       " 'name': 'Beta'}"
      ]
     },
     "execution_count": 19,
     "metadata": {},
     "output_type": "execute_result"
    }
   ],
   "source": [
    "print(np.sum(model.Z.mean(), axis=0))\n",
    "model.theta.parameters"
   ]
  },
  {
   "cell_type": "code",
   "execution_count": 20,
   "metadata": {},
   "outputs": [
    {
     "data": {
      "text/plain": [
       "[Text(652.0000000000001, 0.5, '150 cells'),\n",
       " Text(0.5, 69.0, 'infered clones'),\n",
       " Text(0.5, 1, 'scDNA-seq: Adj Rand Index=0.912')]"
      ]
     },
     "execution_count": 20,
     "metadata": {},
     "output_type": "execute_result"
    },
    {
     "data": {
      "image/png": "[encoded data removed]",
      "text/plain": [
       "<Figure size 720x720 with 5 Axes>"
      ]
     },
     "metadata": {
      "needs_background": "light"
     },
     "output_type": "display_data"
    }
   ],
   "source": [
    "import seaborn as sns\n",
    "import matplotlib.pyplot as plt\n",
    "from sklearn.metrics import adjusted_rand_score\n",
    "\n",
    "_ID_prob = model.Z.mean().numpy()\n",
    "ARI = adjusted_rand_score(np.argmax(_ID_prob, axis=1), simu_dat['I_RNA'])\n",
    "\n",
    "im = annoHeatMap(_ID_prob, np.array(simu_dat['I_RNA'], int), \n",
    "                 cax_pos=[.99, .2, .03, .45])\n",
    "\n",
    "im.ax_heatmap.set(xlabel='infered clones', \n",
    "                  ylabel='150 cells',\n",
    "                  title='scDNA-seq: Adj Rand Index=%.3f' %(ARI))"
   ]
  },
  {
   "cell_type": "code",
   "execution_count": 21,
   "metadata": {},
   "outputs": [
    {
     "data": {
      "text/plain": [
       "array([[0.0084, 0.9027, 0.0084, 0.927 ],\n",
       "       [0.0084, 0.0107, 0.0084, 0.047 ],\n",
       "       [0.9593, 0.5548, 0.7734, 0.5546],\n",
       "       [0.9034, 0.963 , 0.9931, 0.0144],\n",
       "       [0.0093, 0.9026, 0.9931, 0.0088]], dtype=float32)"
      ]
     },
     "execution_count": 21,
     "metadata": {},
     "output_type": "execute_result"
    }
   ],
   "source": [
    "## Mean allelic ratio\n",
    "np.dot(model.Y.mean(), model.theta.mean())[:5]"
   ]
  },
  {
   "cell_type": "markdown",
   "metadata": {},
   "source": [
    "### Run ASE module with vireoSNP"
   ]
  },
  {
   "cell_type": "code",
   "execution_count": 22,
   "metadata": {},
   "outputs": [],
   "source": [
    "from scipy import sparse\n",
    "\n",
    "theta_prior = np.array([[0.01, 1], [1, 2], [1, 1], [2, 1], [1, 0.01]])\n",
    "\n",
    "AD = sparse.csr_matrix(simu_dat['AD_RNA'])\n",
    "DP = sparse.csr_matrix(simu_dat['DP_RNA'])"
   ]
  },
  {
   "cell_type": "code",
   "execution_count": 23,
   "metadata": {},
   "outputs": [
    {
     "data": {
      "text/plain": [
       "(100, 300)"
      ]
     },
     "execution_count": 23,
     "metadata": {},
     "output_type": "execute_result"
    }
   ],
   "source": [
    "DP.shape"
   ]
  },
  {
   "cell_type": "code",
   "execution_count": 24,
   "metadata": {},
   "outputs": [
    {
     "name": "stdout",
     "output_type": "stream",
     "text": [
      "[vireo] warm-up: 50 random initializations for 4 clusters...\n",
      "donor1\tdonor3\tdonor2\tdonor0\n",
      "83\t71\t77\t69\n",
      "[vireo] warm-up: lower bound ranges [-37414.4, -21930.1, -21853.2]\n",
      "[vireo] main RUN with warm initials and tuned GT ...\n",
      "[vireo] main RUN: 22 iterations; lower bound -21930.1\n",
      "[vireo] beta parameters for binomial rate:\n",
      "[[39.5 43065.6]\n",
      " [3467.1 14318.5]\n",
      " [2914.9 3480.5]\n",
      " [14479.5 3516.0]\n",
      " [34034.0 65.5]]\n",
      "Output donor size: [82.6 70.8 77.3 69.2]\n"
     ]
    }
   ],
   "source": [
    "### with multiple initializations\n",
    "## CNV block specific allelic ratio can be used by add ASE_mode=True\n",
    "\n",
    "import vireoSNP\n",
    "res = vireoSNP.vireo_flock(AD, DP, n_donor=4, learn_GT=True,\n",
    "                           n_extra_donor=0, #ASE_mode=True,\n",
    "                           theta_prior=theta_prior, learn_theta=True, \n",
    "                           n_init=50, check_doublet=False, random_seed=1)\n",
    "\n",
    "print(\"Output donor size:\", res['ID_prob'].sum(axis=0))"
   ]
  },
  {
   "cell_type": "code",
   "execution_count": 25,
   "metadata": {},
   "outputs": [
    {
     "data": {
      "text/plain": [
       "<Figure size 288x360 with 0 Axes>"
      ]
     },
     "metadata": {},
     "output_type": "display_data"
    },
    {
     "data": {
      "image/png": "[encoded data removed]",
      "text/plain": [
       "<Figure size 720x720 with 5 Axes>"
      ]
     },
     "metadata": {
      "needs_background": "light"
     },
     "output_type": "display_data"
    }
   ],
   "source": [
    "import seaborn as sns\n",
    "import matplotlib.pyplot as plt\n",
    "from sklearn.metrics import adjusted_rand_score\n",
    "\n",
    "ARI = adjusted_rand_score(np.argmax(res['ID_prob'], axis=1), simu_dat['I_RNA'])\n",
    "\n",
    "fig = plt.figure(figsize=(4, 5))\n",
    "im = annoHeatMap(res['ID_prob'], np.array(simu_dat['I_RNA'], int))\n",
    "im.ax_heatmap.set(xlabel='infered clones', \n",
    "                  ylabel='150 cells',\n",
    "                  title='scRNA-seq: Adj Rand Index=%.3f' %(ARI))\n",
    "plt.show()"
   ]
  },
  {
   "cell_type": "code",
   "execution_count": 26,
   "metadata": {},
   "outputs": [
    {
     "data": {
      "image/png": "[encoded data removed]",
      "text/plain": [
       "<Figure size 432x288 with 1 Axes>"
      ]
     },
     "metadata": {
      "needs_background": "light"
     },
     "output_type": "display_data"
    }
   ],
   "source": [
    "plt.plot(-res['LB_list'])\n",
    "plt.show()"
   ]
  },
  {
   "cell_type": "code",
   "execution_count": 27,
   "metadata": {},
   "outputs": [],
   "source": [
    "AF_mean = res['theta_shapes'][:, 0] / np.sum(res['theta_shapes'], axis=1)\n",
    "AF_SNPs = np.tensordot(res['GT_prob'], AF_mean, axes=[1, 0])"
   ]
  },
  {
   "cell_type": "code",
   "execution_count": 28,
   "metadata": {},
   "outputs": [
    {
     "data": {
      "text/plain": [
       "array([[0.0, 1.0, 0.0, 0.8],\n",
       "       [0.0, 0.1, 0.0, 0.0],\n",
       "       [1.0, 0.5, 0.8, 0.5],\n",
       "       [1.0, 0.0, 1.0, 1.0],\n",
       "       [0.0, 0.0, 1.0, 1.0]])"
      ]
     },
     "execution_count": 28,
     "metadata": {},
     "output_type": "execute_result"
    }
   ],
   "source": [
    "AF_SNPs[:5, :]"
   ]
  },
  {
   "cell_type": "code",
   "execution_count": 29,
   "metadata": {},
   "outputs": [
    {
     "data": {
      "image/png": "[encoded data removed]",
      "text/plain": [
       "<Figure size 320x400 with 2 Axes>"
      ]
     },
     "metadata": {
      "needs_background": "light"
     },
     "output_type": "display_data"
    }
   ],
   "source": [
    "import matplotlib.pyplot as plt\n",
    "plt.rcParams.update({'font.size': 10})\n",
    "from vireoSNP.plot.base_plot import heat_matrix\n",
    "\n",
    "fig = plt.figure(figsize=(4, 5), dpi=80)\n",
    "im = heat_matrix(AF_SNPs, cmap=\"GnBu\", alpha=1,\n",
    "                 display_value=False, row_sort=True)\n",
    "plt.colorbar(im, fraction=0.046, pad=0.04)\n",
    "plt.title(\"Mean allelic ratio\")\n",
    "plt.xlabel(\"Donors\")\n",
    "plt.ylabel(\"%d SNPs\" %(AF_SNPs.shape[0]))\n",
    "plt.yticks([])\n",
    "plt.xticks([0, 1, 2, 3])\n",
    "\n",
    "plt.tight_layout()\n",
    "plt.show()"
   ]
  },
  {
   "cell_type": "code",
   "execution_count": null,
   "metadata": {},
   "outputs": [],
   "source": []
  }
 ],
 "metadata": {
  "kernelspec": {
   "display_name": "TFProb",
   "language": "python",
   "name": "tfprob"
  },
  "language_info": {
   "codemirror_mode": {
    "name": "ipython",
    "version": 3
   },
   "file_extension": ".py",
   "mimetype": "text/x-python",
   "name": "python",
   "nbconvert_exporter": "python",
   "pygments_lexer": "ipython3",
   "version": "3.7.5"
  }
 },
 "nbformat": 4,
 "nbformat_minor": 2
}
